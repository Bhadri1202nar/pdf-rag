{
 "cells": [
  {
   "cell_type": "code",
   "execution_count": 8,
   "metadata": {},
   "outputs": [
    {
     "ename": "KeyboardInterrupt",
     "evalue": "",
     "output_type": "error",
     "traceback": [
      "\u001b[1;31m---------------------------------------------------------------------------\u001b[0m",
      "\u001b[1;31mKeyboardInterrupt\u001b[0m                         Traceback (most recent call last)",
      "Cell \u001b[1;32mIn[8], line 3\u001b[0m\n\u001b[0;32m      1\u001b[0m \u001b[38;5;28;01mfrom\u001b[39;00m\u001b[38;5;250m \u001b[39m\u001b[38;5;21;01mlangchain_community\u001b[39;00m\u001b[38;5;21;01m.\u001b[39;00m\u001b[38;5;21;01mdocument_loaders\u001b[39;00m\u001b[38;5;250m \u001b[39m\u001b[38;5;28;01mimport\u001b[39;00m PyPDFLoader\n\u001b[0;32m      2\u001b[0m loader\u001b[38;5;241m=\u001b[39mPyPDFLoader(\u001b[38;5;124m\"\u001b[39m\u001b[38;5;124mpom book.pdf\u001b[39m\u001b[38;5;124m\"\u001b[39m)\n\u001b[1;32m----> 3\u001b[0m data\u001b[38;5;241m=\u001b[39m\u001b[43mloader\u001b[49m\u001b[38;5;241;43m.\u001b[39;49m\u001b[43mload\u001b[49m\u001b[43m(\u001b[49m\u001b[43m)\u001b[49m\n\u001b[0;32m      4\u001b[0m data\n",
      "File \u001b[1;32mg:\\rag_app\\venv\\Lib\\site-packages\\langchain_core\\document_loaders\\base.py:31\u001b[0m, in \u001b[0;36mBaseLoader.load\u001b[1;34m(self)\u001b[0m\n\u001b[0;32m     29\u001b[0m \u001b[38;5;28;01mdef\u001b[39;00m\u001b[38;5;250m \u001b[39m\u001b[38;5;21mload\u001b[39m(\u001b[38;5;28mself\u001b[39m) \u001b[38;5;241m-\u001b[39m\u001b[38;5;241m>\u001b[39m \u001b[38;5;28mlist\u001b[39m[Document]:\n\u001b[0;32m     30\u001b[0m \u001b[38;5;250m    \u001b[39m\u001b[38;5;124;03m\"\"\"Load data into Document objects.\"\"\"\u001b[39;00m\n\u001b[1;32m---> 31\u001b[0m     \u001b[38;5;28;01mreturn\u001b[39;00m \u001b[38;5;28;43mlist\u001b[39;49m\u001b[43m(\u001b[49m\u001b[38;5;28;43mself\u001b[39;49m\u001b[38;5;241;43m.\u001b[39;49m\u001b[43mlazy_load\u001b[49m\u001b[43m(\u001b[49m\u001b[43m)\u001b[49m\u001b[43m)\u001b[49m\n",
      "File \u001b[1;32mg:\\rag_app\\venv\\Lib\\site-packages\\langchain_community\\document_loaders\\pdf.py:307\u001b[0m, in \u001b[0;36mPyPDFLoader.lazy_load\u001b[1;34m(self)\u001b[0m\n\u001b[0;32m    305\u001b[0m \u001b[38;5;28;01melse\u001b[39;00m:\n\u001b[0;32m    306\u001b[0m     blob \u001b[38;5;241m=\u001b[39m Blob\u001b[38;5;241m.\u001b[39mfrom_path(\u001b[38;5;28mself\u001b[39m\u001b[38;5;241m.\u001b[39mfile_path)  \u001b[38;5;66;03m# type: ignore[attr-defined]\u001b[39;00m\n\u001b[1;32m--> 307\u001b[0m \u001b[38;5;28;01myield from\u001b[39;00m \u001b[38;5;28mself\u001b[39m\u001b[38;5;241m.\u001b[39mparser\u001b[38;5;241m.\u001b[39mlazy_parse(blob)\n",
      "File \u001b[1;32mg:\\rag_app\\venv\\Lib\\site-packages\\langchain_community\\document_loaders\\parsers\\pdf.py:398\u001b[0m, in \u001b[0;36mPyPDFParser.lazy_parse\u001b[1;34m(self, blob)\u001b[0m\n\u001b[0;32m    396\u001b[0m single_texts \u001b[38;5;241m=\u001b[39m []\n\u001b[0;32m    397\u001b[0m \u001b[38;5;28;01mfor\u001b[39;00m page_number, page \u001b[38;5;129;01min\u001b[39;00m \u001b[38;5;28menumerate\u001b[39m(pdf_reader\u001b[38;5;241m.\u001b[39mpages):\n\u001b[1;32m--> 398\u001b[0m     text_from_page \u001b[38;5;241m=\u001b[39m \u001b[43m_extract_text_from_page\u001b[49m\u001b[43m(\u001b[49m\u001b[43mpage\u001b[49m\u001b[38;5;241;43m=\u001b[39;49m\u001b[43mpage\u001b[49m\u001b[43m)\u001b[49m\n\u001b[0;32m    399\u001b[0m     images_from_page \u001b[38;5;241m=\u001b[39m \u001b[38;5;28mself\u001b[39m\u001b[38;5;241m.\u001b[39mextract_images_from_page(page)\n\u001b[0;32m    400\u001b[0m     all_text \u001b[38;5;241m=\u001b[39m _merge_text_and_extras(\n\u001b[0;32m    401\u001b[0m         [images_from_page], text_from_page\n\u001b[0;32m    402\u001b[0m     )\u001b[38;5;241m.\u001b[39mstrip()\n",
      "File \u001b[1;32mg:\\rag_app\\venv\\Lib\\site-packages\\langchain_community\\document_loaders\\parsers\\pdf.py:380\u001b[0m, in \u001b[0;36mPyPDFParser.lazy_parse.<locals>._extract_text_from_page\u001b[1;34m(page)\u001b[0m\n\u001b[0;32m    378\u001b[0m     \u001b[38;5;28;01mreturn\u001b[39;00m page\u001b[38;5;241m.\u001b[39mextract_text()\n\u001b[0;32m    379\u001b[0m \u001b[38;5;28;01melse\u001b[39;00m:\n\u001b[1;32m--> 380\u001b[0m     \u001b[38;5;28;01mreturn\u001b[39;00m \u001b[43mpage\u001b[49m\u001b[38;5;241;43m.\u001b[39;49m\u001b[43mextract_text\u001b[49m\u001b[43m(\u001b[49m\n\u001b[0;32m    381\u001b[0m \u001b[43m        \u001b[49m\u001b[43mextraction_mode\u001b[49m\u001b[38;5;241;43m=\u001b[39;49m\u001b[38;5;28;43mself\u001b[39;49m\u001b[38;5;241;43m.\u001b[39;49m\u001b[43mextraction_mode\u001b[49m\u001b[43m,\u001b[49m\n\u001b[0;32m    382\u001b[0m \u001b[43m        \u001b[49m\u001b[38;5;241;43m*\u001b[39;49m\u001b[38;5;241;43m*\u001b[39;49m\u001b[38;5;28;43mself\u001b[39;49m\u001b[38;5;241;43m.\u001b[39;49m\u001b[43mextraction_kwargs\u001b[49m\u001b[43m,\u001b[49m\n\u001b[0;32m    383\u001b[0m \u001b[43m    \u001b[49m\u001b[43m)\u001b[49m\n",
      "File \u001b[1;32mg:\\rag_app\\venv\\Lib\\site-packages\\pypdf\\_page.py:2378\u001b[0m, in \u001b[0;36mPageObject.extract_text\u001b[1;34m(self, orientations, space_width, visitor_operand_before, visitor_operand_after, visitor_text, extraction_mode, *args, **kwargs)\u001b[0m\n\u001b[0;32m   2375\u001b[0m \u001b[38;5;28;01mif\u001b[39;00m \u001b[38;5;28misinstance\u001b[39m(orientations, \u001b[38;5;28mint\u001b[39m):\n\u001b[0;32m   2376\u001b[0m     orientations \u001b[38;5;241m=\u001b[39m (orientations,)\n\u001b[1;32m-> 2378\u001b[0m \u001b[38;5;28;01mreturn\u001b[39;00m \u001b[38;5;28;43mself\u001b[39;49m\u001b[38;5;241;43m.\u001b[39;49m\u001b[43m_extract_text\u001b[49m\u001b[43m(\u001b[49m\n\u001b[0;32m   2379\u001b[0m \u001b[43m    \u001b[49m\u001b[38;5;28;43mself\u001b[39;49m\u001b[43m,\u001b[49m\n\u001b[0;32m   2380\u001b[0m \u001b[43m    \u001b[49m\u001b[38;5;28;43mself\u001b[39;49m\u001b[38;5;241;43m.\u001b[39;49m\u001b[43mpdf\u001b[49m\u001b[43m,\u001b[49m\n\u001b[0;32m   2381\u001b[0m \u001b[43m    \u001b[49m\u001b[43morientations\u001b[49m\u001b[43m,\u001b[49m\n\u001b[0;32m   2382\u001b[0m \u001b[43m    \u001b[49m\u001b[43mspace_width\u001b[49m\u001b[43m,\u001b[49m\n\u001b[0;32m   2383\u001b[0m \u001b[43m    \u001b[49m\u001b[43mPG\u001b[49m\u001b[38;5;241;43m.\u001b[39;49m\u001b[43mCONTENTS\u001b[49m\u001b[43m,\u001b[49m\n\u001b[0;32m   2384\u001b[0m \u001b[43m    \u001b[49m\u001b[43mvisitor_operand_before\u001b[49m\u001b[43m,\u001b[49m\n\u001b[0;32m   2385\u001b[0m \u001b[43m    \u001b[49m\u001b[43mvisitor_operand_after\u001b[49m\u001b[43m,\u001b[49m\n\u001b[0;32m   2386\u001b[0m \u001b[43m    \u001b[49m\u001b[43mvisitor_text\u001b[49m\u001b[43m,\u001b[49m\n\u001b[0;32m   2387\u001b[0m \u001b[43m\u001b[49m\u001b[43m)\u001b[49m\n",
      "File \u001b[1;32mg:\\rag_app\\venv\\Lib\\site-packages\\pypdf\\_page.py:1874\u001b[0m, in \u001b[0;36mPageObject._extract_text\u001b[1;34m(self, obj, pdf, orientations, space_width, content_key, visitor_operand_before, visitor_operand_after, visitor_text)\u001b[0m\n\u001b[0;32m   1870\u001b[0m     content \u001b[38;5;241m=\u001b[39m (\n\u001b[0;32m   1871\u001b[0m         obj[content_key]\u001b[38;5;241m.\u001b[39mget_object() \u001b[38;5;28;01mif\u001b[39;00m \u001b[38;5;28misinstance\u001b[39m(content_key, \u001b[38;5;28mstr\u001b[39m) \u001b[38;5;28;01melse\u001b[39;00m obj\n\u001b[0;32m   1872\u001b[0m     )\n\u001b[0;32m   1873\u001b[0m     \u001b[38;5;28;01mif\u001b[39;00m \u001b[38;5;129;01mnot\u001b[39;00m \u001b[38;5;28misinstance\u001b[39m(content, ContentStream):\n\u001b[1;32m-> 1874\u001b[0m         content \u001b[38;5;241m=\u001b[39m \u001b[43mContentStream\u001b[49m\u001b[43m(\u001b[49m\u001b[43mcontent\u001b[49m\u001b[43m,\u001b[49m\u001b[43m \u001b[49m\u001b[43mpdf\u001b[49m\u001b[43m,\u001b[49m\u001b[43m \u001b[49m\u001b[38;5;124;43m\"\u001b[39;49m\u001b[38;5;124;43mbytes\u001b[39;49m\u001b[38;5;124;43m\"\u001b[39;49m\u001b[43m)\u001b[49m\n\u001b[0;32m   1875\u001b[0m \u001b[38;5;28;01mexcept\u001b[39;00m \u001b[38;5;167;01mKeyError\u001b[39;00m:  \u001b[38;5;66;03m# no content can be extracted (certainly empty page)\u001b[39;00m\n\u001b[0;32m   1876\u001b[0m     \u001b[38;5;28;01mreturn\u001b[39;00m \u001b[38;5;124m\"\u001b[39m\u001b[38;5;124m\"\u001b[39m\n",
      "File \u001b[1;32mg:\\rag_app\\venv\\Lib\\site-packages\\pypdf\\generic\\_data_structures.py:1199\u001b[0m, in \u001b[0;36mContentStream.__init__\u001b[1;34m(self, stream, pdf, forced_encoding)\u001b[0m\n\u001b[0;32m   1197\u001b[0m     \u001b[38;5;28msuper\u001b[39m()\u001b[38;5;241m.\u001b[39mset_data(\u001b[38;5;28mbytes\u001b[39m(data))\n\u001b[0;32m   1198\u001b[0m \u001b[38;5;28;01melse\u001b[39;00m:\n\u001b[1;32m-> 1199\u001b[0m     stream_data \u001b[38;5;241m=\u001b[39m \u001b[43mstream\u001b[49m\u001b[38;5;241;43m.\u001b[39;49m\u001b[43mget_data\u001b[49m\u001b[43m(\u001b[49m\u001b[43m)\u001b[49m\n\u001b[0;32m   1200\u001b[0m     \u001b[38;5;28;01massert\u001b[39;00m stream_data \u001b[38;5;129;01mis\u001b[39;00m \u001b[38;5;129;01mnot\u001b[39;00m \u001b[38;5;28;01mNone\u001b[39;00m\n\u001b[0;32m   1201\u001b[0m     \u001b[38;5;28msuper\u001b[39m()\u001b[38;5;241m.\u001b[39mset_data(stream_data)\n",
      "File \u001b[1;32mg:\\rag_app\\venv\\Lib\\site-packages\\pypdf\\generic\\_data_structures.py:1115\u001b[0m, in \u001b[0;36mEncodedStreamObject.get_data\u001b[1;34m(self)\u001b[0m\n\u001b[0;32m   1111\u001b[0m \u001b[38;5;28;01melse\u001b[39;00m:\n\u001b[0;32m   1112\u001b[0m     \u001b[38;5;66;03m# create decoded object\u001b[39;00m\n\u001b[0;32m   1113\u001b[0m     decoded \u001b[38;5;241m=\u001b[39m DecodedStreamObject()\n\u001b[1;32m-> 1115\u001b[0m     decoded\u001b[38;5;241m.\u001b[39mset_data(\u001b[43mdecode_stream_data\u001b[49m\u001b[43m(\u001b[49m\u001b[38;5;28;43mself\u001b[39;49m\u001b[43m)\u001b[49m)\n\u001b[0;32m   1116\u001b[0m     \u001b[38;5;28;01mfor\u001b[39;00m key, value \u001b[38;5;129;01min\u001b[39;00m \u001b[38;5;28mlist\u001b[39m(\u001b[38;5;28mself\u001b[39m\u001b[38;5;241m.\u001b[39mitems()):\n\u001b[0;32m   1117\u001b[0m         \u001b[38;5;28;01mif\u001b[39;00m key \u001b[38;5;129;01mnot\u001b[39;00m \u001b[38;5;129;01min\u001b[39;00m (SA\u001b[38;5;241m.\u001b[39mLENGTH, SA\u001b[38;5;241m.\u001b[39mFILTER, SA\u001b[38;5;241m.\u001b[39mDECODE_PARMS):\n",
      "File \u001b[1;32mg:\\rag_app\\venv\\Lib\\site-packages\\pypdf\\filters.py:657\u001b[0m, in \u001b[0;36mdecode_stream_data\u001b[1;34m(stream)\u001b[0m\n\u001b[0;32m    655\u001b[0m     data \u001b[38;5;241m=\u001b[39m LZWDecode\u001b[38;5;241m.\u001b[39m_decodeb(data, params)\n\u001b[0;32m    656\u001b[0m \u001b[38;5;28;01melif\u001b[39;00m filter_name \u001b[38;5;129;01min\u001b[39;00m (FT\u001b[38;5;241m.\u001b[39mFLATE_DECODE, FTA\u001b[38;5;241m.\u001b[39mFL):\n\u001b[1;32m--> 657\u001b[0m     data \u001b[38;5;241m=\u001b[39m \u001b[43mFlateDecode\u001b[49m\u001b[38;5;241;43m.\u001b[39;49m\u001b[43mdecode\u001b[49m\u001b[43m(\u001b[49m\u001b[43mdata\u001b[49m\u001b[43m,\u001b[49m\u001b[43m \u001b[49m\u001b[43mparams\u001b[49m\u001b[43m)\u001b[49m\n\u001b[0;32m    658\u001b[0m \u001b[38;5;28;01melif\u001b[39;00m filter_name \u001b[38;5;129;01min\u001b[39;00m (FT\u001b[38;5;241m.\u001b[39mRUN_LENGTH_DECODE, FTA\u001b[38;5;241m.\u001b[39mRL):\n\u001b[0;32m    659\u001b[0m     data \u001b[38;5;241m=\u001b[39m RunLengthDecode\u001b[38;5;241m.\u001b[39mdecode(data)\n",
      "File \u001b[1;32mg:\\rag_app\\venv\\Lib\\site-packages\\pypdf\\filters.py:126\u001b[0m, in \u001b[0;36mFlateDecode.decode\u001b[1;34m(data, decode_parms, **kwargs)\u001b[0m\n\u001b[0;32m    123\u001b[0m \u001b[38;5;28;01mif\u001b[39;00m \u001b[38;5;28misinstance\u001b[39m(decode_parms, ArrayObject):\n\u001b[0;32m    124\u001b[0m     \u001b[38;5;28;01mraise\u001b[39;00m DeprecationError(\u001b[38;5;124m\"\u001b[39m\u001b[38;5;124mdecode_parms as ArrayObject is deprecated\u001b[39m\u001b[38;5;124m\"\u001b[39m)\n\u001b[1;32m--> 126\u001b[0m str_data \u001b[38;5;241m=\u001b[39m \u001b[43mdecompress\u001b[49m\u001b[43m(\u001b[49m\u001b[43mdata\u001b[49m\u001b[43m)\u001b[49m\n\u001b[0;32m    127\u001b[0m predictor \u001b[38;5;241m=\u001b[39m \u001b[38;5;241m1\u001b[39m\n\u001b[0;32m    129\u001b[0m \u001b[38;5;28;01mif\u001b[39;00m decode_parms:\n",
      "File \u001b[1;32mg:\\rag_app\\venv\\Lib\\site-packages\\pypdf\\filters.py:84\u001b[0m, in \u001b[0;36mdecompress\u001b[1;34m(data)\u001b[0m\n\u001b[0;32m     69\u001b[0m \u001b[38;5;250m\u001b[39m\u001b[38;5;124;03m\"\"\"\u001b[39;00m\n\u001b[0;32m     70\u001b[0m \u001b[38;5;124;03mDecompress the given data using zlib.\u001b[39;00m\n\u001b[0;32m     71\u001b[0m \n\u001b[1;32m   (...)\u001b[0m\n\u001b[0;32m     81\u001b[0m \n\u001b[0;32m     82\u001b[0m \u001b[38;5;124;03m\"\"\"\u001b[39;00m\n\u001b[0;32m     83\u001b[0m \u001b[38;5;28;01mtry\u001b[39;00m:\n\u001b[1;32m---> 84\u001b[0m     \u001b[38;5;28;01mreturn\u001b[39;00m zlib\u001b[38;5;241m.\u001b[39mdecompress(data)\n\u001b[0;32m     85\u001b[0m \u001b[38;5;28;01mexcept\u001b[39;00m zlib\u001b[38;5;241m.\u001b[39merror:\n\u001b[0;32m     86\u001b[0m     \u001b[38;5;28;01mtry\u001b[39;00m:\n\u001b[0;32m     87\u001b[0m         \u001b[38;5;66;03m# For larger files, use decompression object to enable buffered reading\u001b[39;00m\n",
      "\u001b[1;31mKeyboardInterrupt\u001b[0m: "
     ]
    }
   ],
   "source": [
    "from langchain_community.document_loaders import PyPDFLoader\n",
    "loader=PyPDFLoader(\"pom book.pdf\")\n",
    "data=loader.load()\n",
    "data"
   ]
  },
  {
   "cell_type": "code",
   "execution_count": 9,
   "metadata": {},
   "outputs": [
    {
     "data": {
      "text/plain": [
       "325"
      ]
     },
     "execution_count": 9,
     "metadata": {},
     "output_type": "execute_result"
    }
   ],
   "source": [
    "len(data)"
   ]
  },
  {
   "cell_type": "code",
   "execution_count": 10,
   "metadata": {},
   "outputs": [
    {
     "name": "stdout",
     "output_type": "stream",
     "text": [
      "Total number of documents: 676\n"
     ]
    }
   ],
   "source": [
    "#Text split the text so that we will work on question that user asks\n",
    "from langchain.text_splitter import RecursiveCharacterTextSplitter\n",
    "#split data\n",
    "text_splitter=RecursiveCharacterTextSplitter(chunk_size=1000)\n",
    "docs=text_splitter.split_documents(data)\n",
    "print(\"Total number of documents:\",len(docs))"
   ]
  },
  {
   "cell_type": "code",
   "execution_count": null,
   "metadata": {},
   "outputs": [
    {
     "data": {
      "text/plain": [
       "Document(metadata={'producer': 'PyPDF', 'creator': 'PyPDF', 'creationdate': '', 'source': 'pom book.pdf', 'total_pages': 325, 'page': 100, 'page_label': '101'}, page_content='as well as soc ial impacts of a dec ision are usually taken into account wh ile \\nmaking the choice from several alternatives.  \\nFor example, in a labour-surplus, cap ital-hungry country l ike India, \\nmanagers cannot afford to suddenly shut down plants, lop off d ivisions and \\nlay off thousands of workers in the face of intense competition. \\n\\uf0b7 Integral Part of Plann ing: As Koontz indicated, „decision mak ing is the \\ncore of planning.‟ Both are intellectual processes, demanding discretion and \\njudgment. Both a im at ach ieving goals. Both are s ituational in nature. Both \\ninvolve cho ice among -alternative courses of act ion. Both are based on  \\nforecasts and assumptions and about future risk and uncertainty. \\n \\n1.3.3  The Decision-Making Process \\nMaking a good dec ision is a d ifficult exerc ise. It is the product of \\ndeliberation, evaluation and thought. To make good dec isions, managers should \\ninvariably follow a sequential set of steps as shown in this figure.')"
      ]
     },
     "execution_count": 12,
     "metadata": {},
     "output_type": "execute_result"
    }
   ],
   "source": [
    "#Convert text into numerical representation\n",
    "''' so weare going to perform embedding using text embedding  models'''\n"
   ]
  }
 ],
 "metadata": {
  "kernelspec": {
   "display_name": "venv",
   "language": "python",
   "name": "python3"
  },
  "language_info": {
   "codemirror_mode": {
    "name": "ipython",
    "version": 3
   },
   "file_extension": ".py",
   "mimetype": "text/x-python",
   "name": "python",
   "nbconvert_exporter": "python",
   "pygments_lexer": "ipython3",
   "version": "3.11.9"
  }
 },
 "nbformat": 4,
 "nbformat_minor": 2
}
